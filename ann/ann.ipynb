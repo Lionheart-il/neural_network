{
 "cells": [
  {
   "cell_type": "markdown",
   "metadata": {},
   "source": [
    "## set working directory"
   ]
  },
  {
   "cell_type": "code",
   "execution_count": 1,
   "metadata": {},
   "outputs": [
    {
     "output_type": "execute_result",
     "data": {
      "text/plain": "'/Users/asaf/Google Drive'"
     },
     "metadata": {},
     "execution_count": 1
    }
   ],
   "source": [
    "import os\n",
    "os.chdir('/Users/asaf/Google Drive/')\n",
    "os.getcwd()"
   ]
  },
  {
   "cell_type": "markdown",
   "metadata": {},
   "source": [
    "## data preprocessing"
   ]
  },
  {
   "cell_type": "code",
   "execution_count": 2,
   "metadata": {},
   "outputs": [],
   "source": [
    "import numpy as np\n",
    "import matplotlib.pyplot as plt\n",
    "import pandas as pd\n",
    "\n",
    "# Importing the dataset\n",
    "dataset = pd.read_csv('Churn_Modelling.csv')\n",
    "X = dataset.iloc[:, 3:13].values\n",
    "y = dataset.iloc[:, 13].values\n",
    "\n",
    "# Encoding categorical data\n",
    "from sklearn.preprocessing import LabelEncoder, OneHotEncoder\n",
    "from sklearn.compose import ColumnTransformer\n",
    "labelencoder_X_2 = LabelEncoder()\n",
    "X[:, 2] = labelencoder_X_2.fit_transform(X[:, 2])\n",
    "columnTransformer = ColumnTransformer([('encoder', OneHotEncoder(), [1])], remainder='passthrough')\n",
    "X = np.array(columnTransformer.fit_transform(X), dtype = np.str)\n",
    "X = X[:, 1:]"
   ]
  },
  {
   "cell_type": "markdown",
   "metadata": {},
   "source": [
    "## Splitting the dataset into the Training set and Test set"
   ]
  },
  {
   "cell_type": "code",
   "execution_count": 3,
   "metadata": {},
   "outputs": [],
   "source": [
    "from sklearn.model_selection import train_test_split\n",
    "X_train, X_test, y_train, y_test = train_test_split(X, y, test_size = 0.2, random_state = 0)"
   ]
  },
  {
   "cell_type": "markdown",
   "metadata": {},
   "source": [
    "## Feature Scaling"
   ]
  },
  {
   "cell_type": "code",
   "execution_count": 4,
   "metadata": {},
   "outputs": [],
   "source": [
    "from sklearn.preprocessing import StandardScaler\n",
    "sc = StandardScaler()\n",
    "X_train = sc.fit_transform(X_train)\n",
    "X_test = sc.transform(X_test)"
   ]
  },
  {
   "cell_type": "markdown",
   "metadata": {},
   "source": [
    "# let's make the ANN!"
   ]
  },
  {
   "cell_type": "code",
   "execution_count": 5,
   "metadata": {},
   "outputs": [
    {
     "output_type": "stream",
     "name": "stderr",
     "text": "Using TensorFlow backend.\n"
    }
   ],
   "source": [
    "# Importing the Keras libraries and packages\n",
    "import keras\n",
    "from keras.models import Sequential\n",
    "from keras.layers import Dense"
   ]
  },
  {
   "cell_type": "markdown",
   "metadata": {},
   "source": [
    "## ANN"
   ]
  },
  {
   "cell_type": "code",
   "execution_count": 6,
   "metadata": {},
   "outputs": [
    {
     "output_type": "stream",
     "name": "stdout",
     "text": "WARNING:tensorflow:From /Users/asaf/opt/anaconda3/lib/python3.7/site-packages/tensorflow/python/ops/resource_variable_ops.py:435: colocate_with (from tensorflow.python.framework.ops) is deprecated and will be removed in a future version.\nInstructions for updating:\nColocations handled automatically by placer.\nWARNING:tensorflow:From /Users/asaf/opt/anaconda3/lib/python3.7/site-packages/tensorflow/python/ops/math_ops.py:3066: to_int32 (from tensorflow.python.ops.math_ops) is deprecated and will be removed in a future version.\nInstructions for updating:\nUse tf.cast instead.\nEpoch 1/100\n8000/8000 [==============================] - 2s 198us/step - loss: 0.4751 - accuracy: 0.7960\nEpoch 2/100\n8000/8000 [==============================] - 1s 158us/step - loss: 0.4293 - accuracy: 0.7960\nEpoch 3/100\n8000/8000 [==============================] - 1s 167us/step - loss: 0.4166 - accuracy: 0.7960\nEpoch 4/100\n8000/8000 [==============================] - 1s 146us/step - loss: 0.4054 - accuracy: 0.7960\nEpoch 5/100\n8000/8000 [==============================] - 1s 167us/step - loss: 0.3977 - accuracy: 0.8006\nEpoch 6/100\n8000/8000 [==============================] - 1s 138us/step - loss: 0.3941 - accuracy: 0.8135\nEpoch 7/100\n8000/8000 [==============================] - 1s 139us/step - loss: 0.3916 - accuracy: 0.8165\nEpoch 8/100\n8000/8000 [==============================] - 1s 148us/step - loss: 0.3871 - accuracy: 0.8211\nEpoch 9/100\n8000/8000 [==============================] - 1s 152us/step - loss: 0.3835 - accuracy: 0.8286\nEpoch 10/100\n8000/8000 [==============================] - 1s 152us/step - loss: 0.3803 - accuracy: 0.8365\nEpoch 11/100\n8000/8000 [==============================] - 1s 152us/step - loss: 0.3745 - accuracy: 0.8404\nEpoch 12/100\n8000/8000 [==============================] - 1s 149us/step - loss: 0.3721 - accuracy: 0.8456\nEpoch 13/100\n8000/8000 [==============================] - 1s 142us/step - loss: 0.3669 - accuracy: 0.8515\nEpoch 14/100\n8000/8000 [==============================] - 1s 145us/step - loss: 0.3663 - accuracy: 0.8547\nEpoch 15/100\n8000/8000 [==============================] - 1s 143us/step - loss: 0.3633 - accuracy: 0.8547\nEpoch 16/100\n8000/8000 [==============================] - 1s 143us/step - loss: 0.3609 - accuracy: 0.8554\nEpoch 17/100\n8000/8000 [==============================] - 1s 126us/step - loss: 0.3601 - accuracy: 0.8579\nEpoch 18/100\n8000/8000 [==============================] - 1s 125us/step - loss: 0.3581 - accuracy: 0.8570\nEpoch 19/100\n8000/8000 [==============================] - 1s 134us/step - loss: 0.3582 - accuracy: 0.8545\nEpoch 20/100\n8000/8000 [==============================] - 1s 133us/step - loss: 0.3567 - accuracy: 0.8568\nEpoch 21/100\n8000/8000 [==============================] - 1s 134us/step - loss: 0.3558 - accuracy: 0.8587\nEpoch 22/100\n8000/8000 [==============================] - 1s 133us/step - loss: 0.3556 - accuracy: 0.8572\nEpoch 23/100\n8000/8000 [==============================] - 1s 138us/step - loss: 0.3541 - accuracy: 0.8560\nEpoch 24/100\n8000/8000 [==============================] - 1s 151us/step - loss: 0.3544 - accuracy: 0.8569\nEpoch 25/100\n8000/8000 [==============================] - 1s 145us/step - loss: 0.3525 - accuracy: 0.8586\nEpoch 26/100\n8000/8000 [==============================] - 1s 146us/step - loss: 0.3515 - accuracy: 0.8566\nEpoch 27/100\n8000/8000 [==============================] - 1s 149us/step - loss: 0.3532 - accuracy: 0.8583\nEpoch 28/100\n8000/8000 [==============================] - 1s 144us/step - loss: 0.3522 - accuracy: 0.8560\nEpoch 29/100\n8000/8000 [==============================] - 1s 153us/step - loss: 0.3519 - accuracy: 0.8560\nEpoch 30/100\n8000/8000 [==============================] - 1s 147us/step - loss: 0.3510 - accuracy: 0.8568\nEpoch 31/100\n8000/8000 [==============================] - 1s 153us/step - loss: 0.3525 - accuracy: 0.8562\nEpoch 32/100\n8000/8000 [==============================] - 1s 155us/step - loss: 0.3506 - accuracy: 0.8575\nEpoch 33/100\n8000/8000 [==============================] - 1s 145us/step - loss: 0.3478 - accuracy: 0.8565\nEpoch 34/100\n8000/8000 [==============================] - 1s 145us/step - loss: 0.3495 - accuracy: 0.8593\nEpoch 35/100\n8000/8000 [==============================] - 1s 146us/step - loss: 0.3508 - accuracy: 0.8554\nEpoch 36/100\n8000/8000 [==============================] - 1s 144us/step - loss: 0.3495 - accuracy: 0.8597\nEpoch 37/100\n8000/8000 [==============================] - 1s 145us/step - loss: 0.3525 - accuracy: 0.8565\nEpoch 38/100\n8000/8000 [==============================] - 1s 143us/step - loss: 0.3499 - accuracy: 0.8568\nEpoch 39/100\n8000/8000 [==============================] - 1s 143us/step - loss: 0.3495 - accuracy: 0.8558\nEpoch 40/100\n8000/8000 [==============================] - 1s 148us/step - loss: 0.3484 - accuracy: 0.8594\nEpoch 41/100\n8000/8000 [==============================] - 1s 145us/step - loss: 0.3497 - accuracy: 0.8600\nEpoch 42/100\n8000/8000 [==============================] - 1s 141us/step - loss: 0.3483 - accuracy: 0.8580\nEpoch 43/100\n8000/8000 [==============================] - 1s 145us/step - loss: 0.3489 - accuracy: 0.8559\nEpoch 44/100\n8000/8000 [==============================] - 1s 144us/step - loss: 0.3480 - accuracy: 0.8594\nEpoch 45/100\n8000/8000 [==============================] - 1s 145us/step - loss: 0.3486 - accuracy: 0.8571\nEpoch 46/100\n8000/8000 [==============================] - 1s 150us/step - loss: 0.3480 - accuracy: 0.8599\nEpoch 47/100\n8000/8000 [==============================] - 1s 150us/step - loss: 0.3490 - accuracy: 0.8604\nEpoch 48/100\n8000/8000 [==============================] - 1s 150us/step - loss: 0.3479 - accuracy: 0.8586\nEpoch 49/100\n8000/8000 [==============================] - 1s 150us/step - loss: 0.3475 - accuracy: 0.8591\nEpoch 50/100\n8000/8000 [==============================] - 1s 154us/step - loss: 0.3469 - accuracy: 0.8596\nEpoch 51/100\n8000/8000 [==============================] - 1s 149us/step - loss: 0.3484 - accuracy: 0.8590\nEpoch 52/100\n8000/8000 [==============================] - 1s 152us/step - loss: 0.3462 - accuracy: 0.8574\nEpoch 53/100\n8000/8000 [==============================] - 1s 145us/step - loss: 0.3475 - accuracy: 0.8604\nEpoch 54/100\n8000/8000 [==============================] - 1s 148us/step - loss: 0.3473 - accuracy: 0.8591\nEpoch 55/100\n8000/8000 [==============================] - 1s 148us/step - loss: 0.3458 - accuracy: 0.8577\nEpoch 56/100\n8000/8000 [==============================] - 1s 147us/step - loss: 0.3467 - accuracy: 0.8570\nEpoch 57/100\n8000/8000 [==============================] - 1s 143us/step - loss: 0.3452 - accuracy: 0.8610\nEpoch 58/100\n8000/8000 [==============================] - 1s 146us/step - loss: 0.3450 - accuracy: 0.8595\nEpoch 59/100\n8000/8000 [==============================] - 1s 141us/step - loss: 0.3450 - accuracy: 0.8594\nEpoch 60/100\n8000/8000 [==============================] - 1s 143us/step - loss: 0.3451 - accuracy: 0.8594\nEpoch 61/100\n8000/8000 [==============================] - 1s 143us/step - loss: 0.3456 - accuracy: 0.8606\nEpoch 62/100\n8000/8000 [==============================] - 1s 146us/step - loss: 0.3440 - accuracy: 0.8601\nEpoch 63/100\n8000/8000 [==============================] - 1s 148us/step - loss: 0.3454 - accuracy: 0.8577\nEpoch 64/100\n8000/8000 [==============================] - 1s 145us/step - loss: 0.3446 - accuracy: 0.8587\nEpoch 65/100\n8000/8000 [==============================] - 1s 153us/step - loss: 0.3447 - accuracy: 0.8590\nEpoch 66/100\n8000/8000 [==============================] - 1s 145us/step - loss: 0.3439 - accuracy: 0.8599\nEpoch 67/100\n8000/8000 [==============================] - 1s 144us/step - loss: 0.3450 - accuracy: 0.8611\nEpoch 68/100\n8000/8000 [==============================] - 1s 141us/step - loss: 0.3437 - accuracy: 0.8604\nEpoch 69/100\n8000/8000 [==============================] - 1s 146us/step - loss: 0.3433 - accuracy: 0.8575\nEpoch 70/100\n8000/8000 [==============================] - 1s 145us/step - loss: 0.3444 - accuracy: 0.8599\nEpoch 71/100\n8000/8000 [==============================] - 1s 142us/step - loss: 0.3426 - accuracy: 0.8589\nEpoch 72/100\n8000/8000 [==============================] - 1s 144us/step - loss: 0.3443 - accuracy: 0.8610\nEpoch 73/100\n8000/8000 [==============================] - 1s 140us/step - loss: 0.3421 - accuracy: 0.8615\nEpoch 74/100\n8000/8000 [==============================] - 1s 145us/step - loss: 0.3439 - accuracy: 0.8602\nEpoch 75/100\n8000/8000 [==============================] - 1s 146us/step - loss: 0.3428 - accuracy: 0.8610\nEpoch 76/100\n8000/8000 [==============================] - 1s 143us/step - loss: 0.3424 - accuracy: 0.8619\nEpoch 77/100\n8000/8000 [==============================] - 1s 143us/step - loss: 0.3419 - accuracy: 0.8608\nEpoch 78/100\n8000/8000 [==============================] - 1s 146us/step - loss: 0.3427 - accuracy: 0.8605\nEpoch 79/100\n8000/8000 [==============================] - 1s 146us/step - loss: 0.3422 - accuracy: 0.8612\nEpoch 80/100\n8000/8000 [==============================] - 1s 139us/step - loss: 0.3415 - accuracy: 0.8618\nEpoch 81/100\n8000/8000 [==============================] - 1s 144us/step - loss: 0.3414 - accuracy: 0.8608\nEpoch 82/100\n8000/8000 [==============================] - 1s 141us/step - loss: 0.3417 - accuracy: 0.8608\nEpoch 83/100\n8000/8000 [==============================] - 1s 143us/step - loss: 0.3416 - accuracy: 0.8619\nEpoch 84/100\n8000/8000 [==============================] - 1s 142us/step - loss: 0.3411 - accuracy: 0.8610\nEpoch 85/100\n8000/8000 [==============================] - 1s 143us/step - loss: 0.3410 - accuracy: 0.8609\nEpoch 86/100\n8000/8000 [==============================] - 1s 141us/step - loss: 0.3395 - accuracy: 0.8614\nEpoch 87/100\n8000/8000 [==============================] - 1s 142us/step - loss: 0.3407 - accuracy: 0.8599\nEpoch 88/100\n8000/8000 [==============================] - 1s 144us/step - loss: 0.3394 - accuracy: 0.8627\nEpoch 89/100\n8000/8000 [==============================] - 1s 147us/step - loss: 0.3411 - accuracy: 0.8600\nEpoch 90/100\n8000/8000 [==============================] - 1s 148us/step - loss: 0.3408 - accuracy: 0.8620\nEpoch 91/100\n8000/8000 [==============================] - 1s 139us/step - loss: 0.3401 - accuracy: 0.8624\nEpoch 92/100\n8000/8000 [==============================] - 1s 144us/step - loss: 0.3400 - accuracy: 0.8611\nEpoch 93/100\n8000/8000 [==============================] - 1s 146us/step - loss: 0.3395 - accuracy: 0.8605\nEpoch 94/100\n8000/8000 [==============================] - 1s 142us/step - loss: 0.3405 - accuracy: 0.8634\nEpoch 95/100\n8000/8000 [==============================] - 1s 145us/step - loss: 0.3390 - accuracy: 0.8616\nEpoch 96/100\n8000/8000 [==============================] - 1s 145us/step - loss: 0.3393 - accuracy: 0.8616\nEpoch 97/100\n8000/8000 [==============================] - 1s 141us/step - loss: 0.3385 - accuracy: 0.8626\nEpoch 98/100\n8000/8000 [==============================] - 1s 147us/step - loss: 0.3397 - accuracy: 0.8622\nEpoch 99/100\n8000/8000 [==============================] - 1s 143us/step - loss: 0.3384 - accuracy: 0.8619\nEpoch 100/100\n8000/8000 [==============================] - 1s 142us/step - loss: 0.3399 - accuracy: 0.8587\n"
    },
    {
     "output_type": "execute_result",
     "data": {
      "text/plain": "<keras.callbacks.callbacks.History at 0x1a2f5bdb90>"
     },
     "metadata": {},
     "execution_count": 6
    }
   ],
   "source": [
    "# Initialising the ANN\n",
    "classifier = Sequential()\n",
    "\n",
    "# Adding the input layer and the first hidden layer\n",
    "classifier.add(Dense(units = 6, kernel_initializer = 'uniform', activation = 'relu', input_dim = 11))\n",
    "\n",
    "# Adding the second hidden layer\n",
    "classifier.add(Dense(units = 6, kernel_initializer = 'uniform', activation = 'relu'))\n",
    "\n",
    "# Adding the second hidden layer\n",
    "classifier.add(Dense(units = 6, kernel_initializer = 'uniform', activation = 'relu'))\n",
    "\n",
    "# Adding the second hidden layer\n",
    "classifier.add(Dense(units = 6, kernel_initializer = 'uniform', activation = 'exponential'))\n",
    "\n",
    "# Adding the output layer\n",
    "classifier.add(Dense(units = 1, kernel_initializer = 'uniform', activation = 'sigmoid'))\n",
    "\n",
    "# Compiling the ANN\n",
    "classifier.compile(optimizer = 'adam', loss = 'binary_crossentropy', metrics = ['accuracy'])\n",
    "\n",
    "# Fitting the ANN to the Training set\n",
    "classifier.fit(X_train, y_train, batch_size = 10, epochs = 100)\n"
   ]
  },
  {
   "cell_type": "markdown",
   "metadata": {},
   "source": [
    "## Making predictions and evaluating the model"
   ]
  },
  {
   "cell_type": "code",
   "execution_count": 7,
   "metadata": {},
   "outputs": [
    {
     "output_type": "stream",
     "name": "stdout",
     "text": "precision    recall  f1-score   support\n\n           0       0.89      0.93      0.91      1595\n           1       0.68      0.56      0.61       405\n\n    accuracy                           0.86      2000\n   macro avg       0.79      0.75      0.76      2000\nweighted avg       0.85      0.86      0.85      2000\n\n"
    }
   ],
   "source": [
    "\n",
    "# Predicting the Test set results\n",
    "y_pred = classifier.predict(X_test)\n",
    "y_pred = (y_pred > 0.5)\n",
    "\n",
    "# Making the Confusion Matrix\n",
    "from sklearn.metrics import classification_report, balanced_accuracy_score\n",
    "print(classification_report(y_test, y_pred))"
   ]
  },
  {
   "cell_type": "markdown",
   "metadata": {},
   "source": [
    "## Predicting a single new observation"
   ]
  },
  {
   "cell_type": "markdown",
   "metadata": {},
   "source": []
  },
  {
   "cell_type": "code",
   "execution_count": 8,
   "metadata": {},
   "outputs": [
    {
     "output_type": "execute_result",
     "data": {
      "text/plain": "array([[False]])"
     },
     "metadata": {},
     "execution_count": 8
    }
   ],
   "source": [
    "\"\"\"Predict if the customer with the following informations will leave the bank:\n",
    "Geography: France\n",
    "Credit Score: 600\n",
    "Gender: Male\n",
    "Age: 40\n",
    "Tenure: 3\n",
    "Balance: 60000\n",
    "Number of Products: 2\n",
    "Has Credit Card: Yes\n",
    "Is Active Member: Yes\n",
    "Estimated Salary: 50000\"\"\"\n",
    "new_prediction = classifier.predict(sc.transform(np.array([[0.0, 0, 600, 1, 40, 3, 60000, 2, 1, 1, 50000]])))\n",
    "new_prediction = (new_prediction > 0.5)\n",
    "new_prediction"
   ]
  },
  {
   "cell_type": "markdown",
   "metadata": {},
   "source": [
    "## Evaluating the ANN - Cross Validation!"
   ]
  },
  {
   "cell_type": "code",
   "execution_count": 9,
   "metadata": {},
   "outputs": [],
   "source": [
    "from keras.wrappers.scikit_learn import KerasClassifier\n",
    "from sklearn.model_selection import cross_val_score\n",
    "from keras.models import Sequential\n",
    "from keras.layers import Dense\n",
    "def build_classifier():\n",
    "    classifier = Sequential()\n",
    "    classifier.add(Dense(units = 6, kernel_initializer = 'uniform', activation = 'relu', input_dim = 11))\n",
    "    classifier.add(Dense(units = 6, kernel_initializer = 'uniform', activation = 'relu'))\n",
    "    classifier.add(Dense(units = 6, kernel_initializer = 'uniform', activation = 'relu'))\n",
    "    classifier.add(Dense(units = 6, kernel_initializer = 'uniform', activation = 'exponential'))\n",
    "    classifier.add(Dense(units = 1, kernel_initializer = 'uniform', activation = 'sigmoid'))\n",
    "    classifier.compile(optimizer = 'adam', loss = 'binary_crossentropy', metrics = ['accuracy'])\n",
    "    return classifier\n",
    "classifier = KerasClassifier(build_fn = build_classifier, batch_size = 10, epochs = 100)\n",
    "accuracies = cross_val_score(estimator = classifier, X = X_train, y = y_train, cv = 10, n_jobs = -1)\n",
    "mean = accuracies.mean()\n",
    "variance = accuracies.std()\n",
    "\n",
    "#if the mean is equal +- to the accuracy from the initial ann section it's means we have low bias and low variance"
   ]
  },
  {
   "cell_type": "markdown",
   "metadata": {},
   "source": [
    "## Dropout Regularization to reduce overfitting if needed"
   ]
  },
  {
   "cell_type": "code",
   "execution_count": 10,
   "metadata": {},
   "outputs": [
    {
     "output_type": "stream",
     "name": "stdout",
     "text": "Epoch 1/100\n8000/8000 [==============================] - 2s 206us/step - loss: 0.4821 - accuracy: 0.7935\nEpoch 2/100\n8000/8000 [==============================] - 1s 165us/step - loss: 0.4339 - accuracy: 0.7960\nEpoch 3/100\n8000/8000 [==============================] - 1s 164us/step - loss: 0.4240 - accuracy: 0.7960\nEpoch 4/100\n8000/8000 [==============================] - 1s 155us/step - loss: 0.4134 - accuracy: 0.8016\nEpoch 5/100\n8000/8000 [==============================] - 1s 156us/step - loss: 0.4096 - accuracy: 0.8156\nEpoch 6/100\n8000/8000 [==============================] - 1s 155us/step - loss: 0.4077 - accuracy: 0.8207\nEpoch 7/100\n8000/8000 [==============================] - 1s 164us/step - loss: 0.4001 - accuracy: 0.8200\nEpoch 8/100\n8000/8000 [==============================] - 1s 164us/step - loss: 0.4003 - accuracy: 0.8224\nEpoch 9/100\n8000/8000 [==============================] - 1s 164us/step - loss: 0.3963 - accuracy: 0.8284\nEpoch 10/100\n8000/8000 [==============================] - 1s 166us/step - loss: 0.3939 - accuracy: 0.8340\nEpoch 11/100\n8000/8000 [==============================] - 1s 163us/step - loss: 0.3902 - accuracy: 0.8375\nEpoch 12/100\n8000/8000 [==============================] - 1s 164us/step - loss: 0.3906 - accuracy: 0.8350\nEpoch 13/100\n8000/8000 [==============================] - 1s 167us/step - loss: 0.3917 - accuracy: 0.8369\nEpoch 14/100\n8000/8000 [==============================] - 1s 162us/step - loss: 0.3915 - accuracy: 0.8369\nEpoch 15/100\n8000/8000 [==============================] - 1s 155us/step - loss: 0.3903 - accuracy: 0.8369\nEpoch 16/100\n8000/8000 [==============================] - 1s 157us/step - loss: 0.3896 - accuracy: 0.8353\nEpoch 17/100\n8000/8000 [==============================] - 1s 153us/step - loss: 0.3887 - accuracy: 0.8361\nEpoch 18/100\n8000/8000 [==============================] - 1s 155us/step - loss: 0.3852 - accuracy: 0.8385\nEpoch 19/100\n8000/8000 [==============================] - 1s 149us/step - loss: 0.3908 - accuracy: 0.8376\nEpoch 20/100\n8000/8000 [==============================] - 1s 149us/step - loss: 0.3843 - accuracy: 0.8389\nEpoch 21/100\n8000/8000 [==============================] - 1s 148us/step - loss: 0.3882 - accuracy: 0.8374\nEpoch 22/100\n8000/8000 [==============================] - 1s 152us/step - loss: 0.3886 - accuracy: 0.8349\nEpoch 23/100\n8000/8000 [==============================] - 1s 152us/step - loss: 0.3866 - accuracy: 0.8386\nEpoch 24/100\n8000/8000 [==============================] - 1s 157us/step - loss: 0.3871 - accuracy: 0.8403\nEpoch 25/100\n8000/8000 [==============================] - 1s 153us/step - loss: 0.3820 - accuracy: 0.8413\nEpoch 26/100\n8000/8000 [==============================] - 1s 153us/step - loss: 0.3860 - accuracy: 0.8390\nEpoch 27/100\n8000/8000 [==============================] - 1s 154us/step - loss: 0.3848 - accuracy: 0.8409\nEpoch 28/100\n8000/8000 [==============================] - 1s 156us/step - loss: 0.3850 - accuracy: 0.8410\nEpoch 29/100\n8000/8000 [==============================] - 1s 151us/step - loss: 0.3855 - accuracy: 0.8393\nEpoch 30/100\n8000/8000 [==============================] - 1s 151us/step - loss: 0.3816 - accuracy: 0.8406\nEpoch 31/100\n8000/8000 [==============================] - 1s 151us/step - loss: 0.3835 - accuracy: 0.8424\nEpoch 32/100\n8000/8000 [==============================] - 1s 150us/step - loss: 0.3791 - accuracy: 0.8444\nEpoch 33/100\n8000/8000 [==============================] - 1s 148us/step - loss: 0.3802 - accuracy: 0.8414\nEpoch 34/100\n8000/8000 [==============================] - 1s 150us/step - loss: 0.3771 - accuracy: 0.8432\nEpoch 35/100\n8000/8000 [==============================] - 1s 149us/step - loss: 0.3786 - accuracy: 0.8409\nEpoch 36/100\n8000/8000 [==============================] - 1s 149us/step - loss: 0.3814 - accuracy: 0.8410\nEpoch 37/100\n8000/8000 [==============================] - 1s 152us/step - loss: 0.3798 - accuracy: 0.8400\nEpoch 38/100\n8000/8000 [==============================] - 1s 149us/step - loss: 0.3869 - accuracy: 0.8385\nEpoch 39/100\n8000/8000 [==============================] - 1s 149us/step - loss: 0.3773 - accuracy: 0.8449\nEpoch 40/100\n8000/8000 [==============================] - 1s 148us/step - loss: 0.3797 - accuracy: 0.8444\nEpoch 41/100\n8000/8000 [==============================] - 1s 150us/step - loss: 0.3842 - accuracy: 0.8418\nEpoch 42/100\n8000/8000 [==============================] - 1s 151us/step - loss: 0.3775 - accuracy: 0.8432\nEpoch 43/100\n8000/8000 [==============================] - 1s 152us/step - loss: 0.3801 - accuracy: 0.8415\nEpoch 44/100\n8000/8000 [==============================] - 1s 146us/step - loss: 0.3789 - accuracy: 0.8431\nEpoch 45/100\n8000/8000 [==============================] - 1s 148us/step - loss: 0.3826 - accuracy: 0.8395\nEpoch 46/100\n8000/8000 [==============================] - 1s 148us/step - loss: 0.3812 - accuracy: 0.8444\nEpoch 47/100\n8000/8000 [==============================] - 1s 148us/step - loss: 0.3776 - accuracy: 0.8434\nEpoch 48/100\n8000/8000 [==============================] - 1s 147us/step - loss: 0.3808 - accuracy: 0.8407\nEpoch 49/100\n8000/8000 [==============================] - 1s 150us/step - loss: 0.3779 - accuracy: 0.8465\nEpoch 50/100\n8000/8000 [==============================] - 1s 149us/step - loss: 0.3777 - accuracy: 0.8484\nEpoch 51/100\n8000/8000 [==============================] - 1s 146us/step - loss: 0.3816 - accuracy: 0.8426\nEpoch 52/100\n8000/8000 [==============================] - 1s 148us/step - loss: 0.3756 - accuracy: 0.8472\nEpoch 53/100\n8000/8000 [==============================] - 1s 148us/step - loss: 0.3777 - accuracy: 0.8429\nEpoch 54/100\n8000/8000 [==============================] - 1s 152us/step - loss: 0.3754 - accuracy: 0.8443\nEpoch 55/100\n8000/8000 [==============================] - 1s 148us/step - loss: 0.3774 - accuracy: 0.8454\nEpoch 56/100\n8000/8000 [==============================] - 1s 150us/step - loss: 0.3754 - accuracy: 0.8478\nEpoch 57/100\n8000/8000 [==============================] - 1s 149us/step - loss: 0.3780 - accuracy: 0.8466\nEpoch 58/100\n8000/8000 [==============================] - 1s 147us/step - loss: 0.3830 - accuracy: 0.8464\nEpoch 59/100\n8000/8000 [==============================] - 1s 147us/step - loss: 0.3777 - accuracy: 0.8462\nEpoch 60/100\n8000/8000 [==============================] - 1s 149us/step - loss: 0.3770 - accuracy: 0.8476\nEpoch 61/100\n8000/8000 [==============================] - 1s 151us/step - loss: 0.3786 - accuracy: 0.8454\nEpoch 62/100\n8000/8000 [==============================] - 1s 164us/step - loss: 0.3717 - accuracy: 0.8481\nEpoch 63/100\n8000/8000 [==============================] - 1s 149us/step - loss: 0.3761 - accuracy: 0.8457\nEpoch 64/100\n8000/8000 [==============================] - 1s 146us/step - loss: 0.3745 - accuracy: 0.8484\nEpoch 65/100\n8000/8000 [==============================] - 1s 149us/step - loss: 0.3781 - accuracy: 0.8478\nEpoch 66/100\n8000/8000 [==============================] - 1s 151us/step - loss: 0.3771 - accuracy: 0.8462\nEpoch 67/100\n8000/8000 [==============================] - 1s 148us/step - loss: 0.3778 - accuracy: 0.8461\nEpoch 68/100\n8000/8000 [==============================] - 1s 150us/step - loss: 0.3738 - accuracy: 0.8500\nEpoch 69/100\n8000/8000 [==============================] - 1s 151us/step - loss: 0.3779 - accuracy: 0.8468\nEpoch 70/100\n8000/8000 [==============================] - 1s 151us/step - loss: 0.3752 - accuracy: 0.8472\nEpoch 71/100\n8000/8000 [==============================] - 1s 147us/step - loss: 0.3731 - accuracy: 0.8508\nEpoch 72/100\n8000/8000 [==============================] - 1s 149us/step - loss: 0.3772 - accuracy: 0.8480\nEpoch 73/100\n8000/8000 [==============================] - 1s 148us/step - loss: 0.3761 - accuracy: 0.8471\nEpoch 74/100\n8000/8000 [==============================] - 1s 156us/step - loss: 0.3761 - accuracy: 0.8481\nEpoch 75/100\n8000/8000 [==============================] - 1s 153us/step - loss: 0.3763 - accuracy: 0.8476\nEpoch 76/100\n8000/8000 [==============================] - 1s 148us/step - loss: 0.3741 - accuracy: 0.8504\nEpoch 77/100\n8000/8000 [==============================] - 1s 146us/step - loss: 0.3719 - accuracy: 0.8516\nEpoch 78/100\n8000/8000 [==============================] - 1s 148us/step - loss: 0.3731 - accuracy: 0.8481\nEpoch 79/100\n8000/8000 [==============================] - 1s 149us/step - loss: 0.3776 - accuracy: 0.8469\nEpoch 80/100\n8000/8000 [==============================] - 1s 151us/step - loss: 0.3734 - accuracy: 0.8482\nEpoch 81/100\n8000/8000 [==============================] - 1s 149us/step - loss: 0.3731 - accuracy: 0.8480\nEpoch 82/100\n8000/8000 [==============================] - 1s 150us/step - loss: 0.3727 - accuracy: 0.8499\nEpoch 83/100\n8000/8000 [==============================] - 1s 149us/step - loss: 0.3745 - accuracy: 0.8486\nEpoch 84/100\n8000/8000 [==============================] - 1s 150us/step - loss: 0.3740 - accuracy: 0.8505\nEpoch 85/100\n8000/8000 [==============================] - 1s 149us/step - loss: 0.3797 - accuracy: 0.8485\nEpoch 86/100\n8000/8000 [==============================] - 1s 152us/step - loss: 0.3745 - accuracy: 0.8500\nEpoch 87/100\n8000/8000 [==============================] - 1s 149us/step - loss: 0.3729 - accuracy: 0.8490\nEpoch 88/100\n8000/8000 [==============================] - 1s 150us/step - loss: 0.3759 - accuracy: 0.8500\nEpoch 89/100\n8000/8000 [==============================] - 1s 154us/step - loss: 0.3734 - accuracy: 0.8476\nEpoch 90/100\n8000/8000 [==============================] - 1s 157us/step - loss: 0.3782 - accuracy: 0.8475\nEpoch 91/100\n8000/8000 [==============================] - 1s 158us/step - loss: 0.3748 - accuracy: 0.8495\nEpoch 92/100\n8000/8000 [==============================] - 1s 158us/step - loss: 0.3712 - accuracy: 0.8524\nEpoch 93/100\n8000/8000 [==============================] - 1s 161us/step - loss: 0.3735 - accuracy: 0.8510\nEpoch 94/100\n8000/8000 [==============================] - 1s 163us/step - loss: 0.3723 - accuracy: 0.8512\nEpoch 95/100\n8000/8000 [==============================] - 1s 162us/step - loss: 0.3734 - accuracy: 0.8485\nEpoch 96/100\n8000/8000 [==============================] - 1s 164us/step - loss: 0.3743 - accuracy: 0.8497\nEpoch 97/100\n8000/8000 [==============================] - 1s 167us/step - loss: 0.3740 - accuracy: 0.8489\nEpoch 98/100\n8000/8000 [==============================] - 1s 164us/step - loss: 0.3744 - accuracy: 0.8469\nEpoch 99/100\n8000/8000 [==============================] - 1s 164us/step - loss: 0.3736 - accuracy: 0.8497\nEpoch 100/100\n8000/8000 [==============================] - 1s 165us/step - loss: 0.3752 - accuracy: 0.8490\n"
    },
    {
     "output_type": "execute_result",
     "data": {
      "text/plain": "<keras.callbacks.callbacks.History at 0x1a2ff5ca10>"
     },
     "metadata": {},
     "execution_count": 10
    }
   ],
   "source": [
    "from keras.layers import Dropout\n",
    "\n",
    "# Initialising the ANN\n",
    "classifier = Sequential()\n",
    "\n",
    "# Adding the input layer and the first hidden layer\n",
    "classifier.add(Dense(units = 6, kernel_initializer = 'uniform', activation = 'relu', input_dim = 11))\n",
    "\n",
    "classifier.add(Dropout(p = 0.1))\n",
    "\n",
    "# Adding the second hidden layer\n",
    "classifier.add(Dense(units = 6, kernel_initializer = 'uniform', activation = 'relu'))\n",
    "\n",
    "# Adding the second hidden layer\n",
    "classifier.add(Dense(units = 6, kernel_initializer = 'uniform', activation = 'relu'))\n",
    "\n",
    "# Adding the second hidden layer\n",
    "classifier.add(Dense(units = 6, kernel_initializer = 'uniform', activation = 'exponential'))\n",
    "\n",
    "# Adding the output layer\n",
    "classifier.add(Dense(units = 1, kernel_initializer = 'uniform', activation = 'sigmoid'))\n",
    "\n",
    "# Compiling the ANN\n",
    "classifier.compile(optimizer = 'adam', loss = 'binary_crossentropy', metrics = ['accuracy'])\n",
    "\n",
    "# Fitting the ANN to the Training set\n",
    "classifier.fit(X_train, y_train, batch_size = 10, epochs = 100)\n"
   ]
  },
  {
   "cell_type": "markdown",
   "metadata": {},
   "source": [
    "## Tuning the ANN parameters"
   ]
  },
  {
   "cell_type": "code",
   "execution_count": null,
   "metadata": {},
   "outputs": [],
   "source": [
    "\n",
    "from keras.wrappers.scikit_learn import KerasClassifier\n",
    "from sklearn.model_selection import GridSearchCV\n",
    "from keras.models import Sequential\n",
    "from keras.layers import Dense\n",
    "def build_classifier(optimizer,activation):\n",
    "    classifier = Sequential()\n",
    "    classifier.add(Dense(units = 6, kernel_initializer = 'uniform', activation = activation, input_dim = 11))\n",
    "    classifier.add(Dense(units = 6, kernel_initializer = 'uniform', activation = activation))\n",
    "    classifier.add(Dense(units = 1, kernel_initializer = 'uniform', activation = 'sigmoid'))\n",
    "    classifier.compile(optimizer = optimizer, loss = 'binary_crossentropy', metrics = ['accuracy'])\n",
    "    return classifier\n",
    "classifier = KerasClassifier(build_fn = build_classifier)\n",
    "\n",
    "parameters = {'batch_size': [25, 32],\n",
    "                'activation': ['softmax', 'softplus', 'softsign', 'relu', 'tanh', 'sigmoid', 'hard_sigmoid', 'linear'],\n",
    "              'epochs': [100, 500],\n",
    "              'optimizer': ['adam', 'rmsprop']}\n",
    "grid_search = GridSearchCV(estimator = classifier,\n",
    "                           param_grid = parameters,\n",
    "                           scoring = 'accuracy',\n",
    "                           cv = 10)\n",
    "grid_search = grid_search.fit(X_train, y_train)\n",
    "best_parameters = grid_search.best_params_\n",
    "best_accuracy = grid_search.best_score_"
   ]
  }
 ],
 "metadata": {
  "language_info": {
   "codemirror_mode": {
    "name": "ipython",
    "version": 3
   },
   "file_extension": ".py",
   "mimetype": "text/x-python",
   "name": "python",
   "nbconvert_exporter": "python",
   "pygments_lexer": "ipython3",
   "version": "3.7.3-final"
  },
  "orig_nbformat": 2,
  "kernelspec": {
   "name": "python3",
   "display_name": "Python 3"
  }
 },
 "nbformat": 4,
 "nbformat_minor": 2
}